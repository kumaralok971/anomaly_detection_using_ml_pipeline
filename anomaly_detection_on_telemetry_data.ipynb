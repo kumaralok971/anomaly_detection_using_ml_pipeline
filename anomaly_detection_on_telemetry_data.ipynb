{
 "cells": [
  {
   "cell_type": "code",
   "execution_count": 1,
   "id": "ab0cb307",
   "metadata": {},
   "outputs": [],
   "source": [
    "col_2=[f'feature_{i+1}' for i in range(1000)]"
   ]
  },
  {
   "cell_type": "code",
   "execution_count": null,
   "id": "5b82929a",
   "metadata": {},
   "outputs": [],
   "source": []
  },
  {
   "cell_type": "code",
   "execution_count": 2,
   "id": "1060023f",
   "metadata": {},
   "outputs": [],
   "source": [
    "import datetime\n",
    "import pandas as pd\n",
    "  \n",
    "n_seconds = 200000\n",
    "base = pd.Timestamp.today()\n",
    "timestamp = [base + datetime.timedelta(seconds=x) for x in range(n_seconds)]\n",
    "  \n"
   ]
  },
  {
   "cell_type": "code",
   "execution_count": 3,
   "id": "46503ddf",
   "metadata": {},
   "outputs": [
    {
     "name": "stderr",
     "output_type": "stream",
     "text": [
      "/var/folders/d2/713v0k3j29z6148dpv1ywcf80000gn/T/ipykernel_13048/2301166003.py:9: PerformanceWarning: DataFrame is highly fragmented.  This is usually the result of calling `frame.insert` many times, which has poor performance.  Consider joining all columns at once using pd.concat(axis=1) instead.  To get a de-fragmented frame, use `newframe = frame.copy()`\n",
      "  df[col] = test\n",
      "/var/folders/d2/713v0k3j29z6148dpv1ywcf80000gn/T/ipykernel_13048/2301166003.py:11: PerformanceWarning: DataFrame is highly fragmented.  This is usually the result of calling `frame.insert` many times, which has poor performance.  Consider joining all columns at once using pd.concat(axis=1) instead.  To get a de-fragmented frame, use `newframe = frame.copy()`\n",
      "  df['target'] = random.choices([0,1],cum_weights=[2,98],k=200000)\n"
     ]
    }
   ],
   "source": [
    "df = pd.DataFrame()\n",
    "df['timestamp'] = timestamp\n",
    "\n",
    "import random\n",
    "for col in col_2:\n",
    "    test = list()\n",
    "    for i in range(200000):\n",
    "        test.append(random.random())\n",
    "    df[col] = test\n",
    "\n",
    "df['target'] = random.choices([0,1],cum_weights=[2,98],k=200000) "
   ]
  },
  {
   "cell_type": "code",
   "execution_count": 4,
   "id": "e6904000",
   "metadata": {},
   "outputs": [],
   "source": [
    "df['timestamp'] = timestamp"
   ]
  },
  {
   "cell_type": "code",
   "execution_count": 5,
   "id": "85577356",
   "metadata": {},
   "outputs": [
    {
     "data": {
      "text/html": [
       "<div>\n",
       "<style scoped>\n",
       "    .dataframe tbody tr th:only-of-type {\n",
       "        vertical-align: middle;\n",
       "    }\n",
       "\n",
       "    .dataframe tbody tr th {\n",
       "        vertical-align: top;\n",
       "    }\n",
       "\n",
       "    .dataframe thead th {\n",
       "        text-align: right;\n",
       "    }\n",
       "</style>\n",
       "<table border=\"1\" class=\"dataframe\">\n",
       "  <thead>\n",
       "    <tr style=\"text-align: right;\">\n",
       "      <th></th>\n",
       "      <th>timestamp</th>\n",
       "      <th>feature_1</th>\n",
       "      <th>feature_2</th>\n",
       "      <th>feature_3</th>\n",
       "      <th>feature_4</th>\n",
       "      <th>feature_5</th>\n",
       "      <th>feature_6</th>\n",
       "      <th>feature_7</th>\n",
       "      <th>feature_8</th>\n",
       "      <th>feature_9</th>\n",
       "      <th>...</th>\n",
       "      <th>feature_992</th>\n",
       "      <th>feature_993</th>\n",
       "      <th>feature_994</th>\n",
       "      <th>feature_995</th>\n",
       "      <th>feature_996</th>\n",
       "      <th>feature_997</th>\n",
       "      <th>feature_998</th>\n",
       "      <th>feature_999</th>\n",
       "      <th>feature_1000</th>\n",
       "      <th>target</th>\n",
       "    </tr>\n",
       "  </thead>\n",
       "  <tbody>\n",
       "    <tr>\n",
       "      <th>0</th>\n",
       "      <td>2022-10-16 12:02:10.380984</td>\n",
       "      <td>0.367720</td>\n",
       "      <td>0.965235</td>\n",
       "      <td>0.224117</td>\n",
       "      <td>0.152626</td>\n",
       "      <td>0.409595</td>\n",
       "      <td>0.766514</td>\n",
       "      <td>0.353577</td>\n",
       "      <td>0.726585</td>\n",
       "      <td>0.699758</td>\n",
       "      <td>...</td>\n",
       "      <td>0.825492</td>\n",
       "      <td>0.844538</td>\n",
       "      <td>0.290426</td>\n",
       "      <td>0.331498</td>\n",
       "      <td>0.314044</td>\n",
       "      <td>0.939113</td>\n",
       "      <td>0.093860</td>\n",
       "      <td>0.473219</td>\n",
       "      <td>0.290908</td>\n",
       "      <td>1</td>\n",
       "    </tr>\n",
       "    <tr>\n",
       "      <th>1</th>\n",
       "      <td>2022-10-16 12:02:11.380984</td>\n",
       "      <td>0.061553</td>\n",
       "      <td>0.827894</td>\n",
       "      <td>0.791361</td>\n",
       "      <td>0.063626</td>\n",
       "      <td>0.917323</td>\n",
       "      <td>0.775435</td>\n",
       "      <td>0.862910</td>\n",
       "      <td>0.537799</td>\n",
       "      <td>0.261008</td>\n",
       "      <td>...</td>\n",
       "      <td>0.358822</td>\n",
       "      <td>0.230351</td>\n",
       "      <td>0.489431</td>\n",
       "      <td>0.609065</td>\n",
       "      <td>0.797727</td>\n",
       "      <td>0.494609</td>\n",
       "      <td>0.277447</td>\n",
       "      <td>0.422381</td>\n",
       "      <td>0.104706</td>\n",
       "      <td>1</td>\n",
       "    </tr>\n",
       "    <tr>\n",
       "      <th>2</th>\n",
       "      <td>2022-10-16 12:02:12.380984</td>\n",
       "      <td>0.444340</td>\n",
       "      <td>0.363845</td>\n",
       "      <td>0.435149</td>\n",
       "      <td>0.182661</td>\n",
       "      <td>0.325477</td>\n",
       "      <td>0.002379</td>\n",
       "      <td>0.882846</td>\n",
       "      <td>0.638790</td>\n",
       "      <td>0.689429</td>\n",
       "      <td>...</td>\n",
       "      <td>0.203767</td>\n",
       "      <td>0.347699</td>\n",
       "      <td>0.918259</td>\n",
       "      <td>0.841526</td>\n",
       "      <td>0.738681</td>\n",
       "      <td>0.309461</td>\n",
       "      <td>0.465570</td>\n",
       "      <td>0.282212</td>\n",
       "      <td>0.645205</td>\n",
       "      <td>1</td>\n",
       "    </tr>\n",
       "    <tr>\n",
       "      <th>3</th>\n",
       "      <td>2022-10-16 12:02:13.380984</td>\n",
       "      <td>0.067224</td>\n",
       "      <td>0.668074</td>\n",
       "      <td>0.240122</td>\n",
       "      <td>0.301716</td>\n",
       "      <td>0.537769</td>\n",
       "      <td>0.419650</td>\n",
       "      <td>0.046984</td>\n",
       "      <td>0.484730</td>\n",
       "      <td>0.881952</td>\n",
       "      <td>...</td>\n",
       "      <td>0.126545</td>\n",
       "      <td>0.984083</td>\n",
       "      <td>0.056755</td>\n",
       "      <td>0.714449</td>\n",
       "      <td>0.280880</td>\n",
       "      <td>0.228428</td>\n",
       "      <td>0.622325</td>\n",
       "      <td>0.618622</td>\n",
       "      <td>0.163805</td>\n",
       "      <td>1</td>\n",
       "    </tr>\n",
       "    <tr>\n",
       "      <th>4</th>\n",
       "      <td>2022-10-16 12:02:14.380984</td>\n",
       "      <td>0.679232</td>\n",
       "      <td>0.416155</td>\n",
       "      <td>0.363160</td>\n",
       "      <td>0.649114</td>\n",
       "      <td>0.230114</td>\n",
       "      <td>0.724952</td>\n",
       "      <td>0.812362</td>\n",
       "      <td>0.169977</td>\n",
       "      <td>0.690614</td>\n",
       "      <td>...</td>\n",
       "      <td>0.650527</td>\n",
       "      <td>0.952390</td>\n",
       "      <td>0.218131</td>\n",
       "      <td>0.947527</td>\n",
       "      <td>0.613253</td>\n",
       "      <td>0.939311</td>\n",
       "      <td>0.262176</td>\n",
       "      <td>0.051763</td>\n",
       "      <td>0.994276</td>\n",
       "      <td>1</td>\n",
       "    </tr>\n",
       "    <tr>\n",
       "      <th>...</th>\n",
       "      <td>...</td>\n",
       "      <td>...</td>\n",
       "      <td>...</td>\n",
       "      <td>...</td>\n",
       "      <td>...</td>\n",
       "      <td>...</td>\n",
       "      <td>...</td>\n",
       "      <td>...</td>\n",
       "      <td>...</td>\n",
       "      <td>...</td>\n",
       "      <td>...</td>\n",
       "      <td>...</td>\n",
       "      <td>...</td>\n",
       "      <td>...</td>\n",
       "      <td>...</td>\n",
       "      <td>...</td>\n",
       "      <td>...</td>\n",
       "      <td>...</td>\n",
       "      <td>...</td>\n",
       "      <td>...</td>\n",
       "      <td>...</td>\n",
       "    </tr>\n",
       "    <tr>\n",
       "      <th>199995</th>\n",
       "      <td>2022-10-18 19:35:25.380984</td>\n",
       "      <td>0.242094</td>\n",
       "      <td>0.972578</td>\n",
       "      <td>0.706955</td>\n",
       "      <td>0.672006</td>\n",
       "      <td>0.674123</td>\n",
       "      <td>0.524723</td>\n",
       "      <td>0.471438</td>\n",
       "      <td>0.266878</td>\n",
       "      <td>0.379391</td>\n",
       "      <td>...</td>\n",
       "      <td>0.998995</td>\n",
       "      <td>0.206280</td>\n",
       "      <td>0.615805</td>\n",
       "      <td>0.498727</td>\n",
       "      <td>0.610445</td>\n",
       "      <td>0.923663</td>\n",
       "      <td>0.149272</td>\n",
       "      <td>0.490076</td>\n",
       "      <td>0.471507</td>\n",
       "      <td>1</td>\n",
       "    </tr>\n",
       "    <tr>\n",
       "      <th>199996</th>\n",
       "      <td>2022-10-18 19:35:26.380984</td>\n",
       "      <td>0.322530</td>\n",
       "      <td>0.292937</td>\n",
       "      <td>0.158472</td>\n",
       "      <td>0.914298</td>\n",
       "      <td>0.458754</td>\n",
       "      <td>0.888872</td>\n",
       "      <td>0.829550</td>\n",
       "      <td>0.314616</td>\n",
       "      <td>0.660727</td>\n",
       "      <td>...</td>\n",
       "      <td>0.264239</td>\n",
       "      <td>0.162035</td>\n",
       "      <td>0.209941</td>\n",
       "      <td>0.857898</td>\n",
       "      <td>0.364643</td>\n",
       "      <td>0.715173</td>\n",
       "      <td>0.283838</td>\n",
       "      <td>0.579165</td>\n",
       "      <td>0.826989</td>\n",
       "      <td>1</td>\n",
       "    </tr>\n",
       "    <tr>\n",
       "      <th>199997</th>\n",
       "      <td>2022-10-18 19:35:27.380984</td>\n",
       "      <td>0.508528</td>\n",
       "      <td>0.205760</td>\n",
       "      <td>0.848815</td>\n",
       "      <td>0.759904</td>\n",
       "      <td>0.830283</td>\n",
       "      <td>0.082691</td>\n",
       "      <td>0.338251</td>\n",
       "      <td>0.197093</td>\n",
       "      <td>0.439372</td>\n",
       "      <td>...</td>\n",
       "      <td>0.879744</td>\n",
       "      <td>0.965965</td>\n",
       "      <td>0.627623</td>\n",
       "      <td>0.151876</td>\n",
       "      <td>0.155124</td>\n",
       "      <td>0.063494</td>\n",
       "      <td>0.403819</td>\n",
       "      <td>0.242910</td>\n",
       "      <td>0.015632</td>\n",
       "      <td>1</td>\n",
       "    </tr>\n",
       "    <tr>\n",
       "      <th>199998</th>\n",
       "      <td>2022-10-18 19:35:28.380984</td>\n",
       "      <td>0.163936</td>\n",
       "      <td>0.686810</td>\n",
       "      <td>0.986994</td>\n",
       "      <td>0.900068</td>\n",
       "      <td>0.881967</td>\n",
       "      <td>0.267396</td>\n",
       "      <td>0.873216</td>\n",
       "      <td>0.731543</td>\n",
       "      <td>0.725562</td>\n",
       "      <td>...</td>\n",
       "      <td>0.104264</td>\n",
       "      <td>0.270814</td>\n",
       "      <td>0.639252</td>\n",
       "      <td>0.792913</td>\n",
       "      <td>0.586300</td>\n",
       "      <td>0.528499</td>\n",
       "      <td>0.366295</td>\n",
       "      <td>0.284260</td>\n",
       "      <td>0.938871</td>\n",
       "      <td>1</td>\n",
       "    </tr>\n",
       "    <tr>\n",
       "      <th>199999</th>\n",
       "      <td>2022-10-18 19:35:29.380984</td>\n",
       "      <td>0.221429</td>\n",
       "      <td>0.696260</td>\n",
       "      <td>0.700681</td>\n",
       "      <td>0.225125</td>\n",
       "      <td>0.819360</td>\n",
       "      <td>0.935720</td>\n",
       "      <td>0.556519</td>\n",
       "      <td>0.598585</td>\n",
       "      <td>0.574409</td>\n",
       "      <td>...</td>\n",
       "      <td>0.935382</td>\n",
       "      <td>0.930813</td>\n",
       "      <td>0.361589</td>\n",
       "      <td>0.155971</td>\n",
       "      <td>0.483901</td>\n",
       "      <td>0.943169</td>\n",
       "      <td>0.670916</td>\n",
       "      <td>0.654841</td>\n",
       "      <td>0.032482</td>\n",
       "      <td>1</td>\n",
       "    </tr>\n",
       "  </tbody>\n",
       "</table>\n",
       "<p>200000 rows × 1002 columns</p>\n",
       "</div>"
      ],
      "text/plain": [
       "                        timestamp  feature_1  feature_2  feature_3  feature_4  \\\n",
       "0      2022-10-16 12:02:10.380984   0.367720   0.965235   0.224117   0.152626   \n",
       "1      2022-10-16 12:02:11.380984   0.061553   0.827894   0.791361   0.063626   \n",
       "2      2022-10-16 12:02:12.380984   0.444340   0.363845   0.435149   0.182661   \n",
       "3      2022-10-16 12:02:13.380984   0.067224   0.668074   0.240122   0.301716   \n",
       "4      2022-10-16 12:02:14.380984   0.679232   0.416155   0.363160   0.649114   \n",
       "...                           ...        ...        ...        ...        ...   \n",
       "199995 2022-10-18 19:35:25.380984   0.242094   0.972578   0.706955   0.672006   \n",
       "199996 2022-10-18 19:35:26.380984   0.322530   0.292937   0.158472   0.914298   \n",
       "199997 2022-10-18 19:35:27.380984   0.508528   0.205760   0.848815   0.759904   \n",
       "199998 2022-10-18 19:35:28.380984   0.163936   0.686810   0.986994   0.900068   \n",
       "199999 2022-10-18 19:35:29.380984   0.221429   0.696260   0.700681   0.225125   \n",
       "\n",
       "        feature_5  feature_6  feature_7  feature_8  feature_9  ...  \\\n",
       "0        0.409595   0.766514   0.353577   0.726585   0.699758  ...   \n",
       "1        0.917323   0.775435   0.862910   0.537799   0.261008  ...   \n",
       "2        0.325477   0.002379   0.882846   0.638790   0.689429  ...   \n",
       "3        0.537769   0.419650   0.046984   0.484730   0.881952  ...   \n",
       "4        0.230114   0.724952   0.812362   0.169977   0.690614  ...   \n",
       "...           ...        ...        ...        ...        ...  ...   \n",
       "199995   0.674123   0.524723   0.471438   0.266878   0.379391  ...   \n",
       "199996   0.458754   0.888872   0.829550   0.314616   0.660727  ...   \n",
       "199997   0.830283   0.082691   0.338251   0.197093   0.439372  ...   \n",
       "199998   0.881967   0.267396   0.873216   0.731543   0.725562  ...   \n",
       "199999   0.819360   0.935720   0.556519   0.598585   0.574409  ...   \n",
       "\n",
       "        feature_992  feature_993  feature_994  feature_995  feature_996  \\\n",
       "0          0.825492     0.844538     0.290426     0.331498     0.314044   \n",
       "1          0.358822     0.230351     0.489431     0.609065     0.797727   \n",
       "2          0.203767     0.347699     0.918259     0.841526     0.738681   \n",
       "3          0.126545     0.984083     0.056755     0.714449     0.280880   \n",
       "4          0.650527     0.952390     0.218131     0.947527     0.613253   \n",
       "...             ...          ...          ...          ...          ...   \n",
       "199995     0.998995     0.206280     0.615805     0.498727     0.610445   \n",
       "199996     0.264239     0.162035     0.209941     0.857898     0.364643   \n",
       "199997     0.879744     0.965965     0.627623     0.151876     0.155124   \n",
       "199998     0.104264     0.270814     0.639252     0.792913     0.586300   \n",
       "199999     0.935382     0.930813     0.361589     0.155971     0.483901   \n",
       "\n",
       "        feature_997  feature_998  feature_999  feature_1000  target  \n",
       "0          0.939113     0.093860     0.473219      0.290908       1  \n",
       "1          0.494609     0.277447     0.422381      0.104706       1  \n",
       "2          0.309461     0.465570     0.282212      0.645205       1  \n",
       "3          0.228428     0.622325     0.618622      0.163805       1  \n",
       "4          0.939311     0.262176     0.051763      0.994276       1  \n",
       "...             ...          ...          ...           ...     ...  \n",
       "199995     0.923663     0.149272     0.490076      0.471507       1  \n",
       "199996     0.715173     0.283838     0.579165      0.826989       1  \n",
       "199997     0.063494     0.403819     0.242910      0.015632       1  \n",
       "199998     0.528499     0.366295     0.284260      0.938871       1  \n",
       "199999     0.943169     0.670916     0.654841      0.032482       1  \n",
       "\n",
       "[200000 rows x 1002 columns]"
      ]
     },
     "execution_count": 5,
     "metadata": {},
     "output_type": "execute_result"
    }
   ],
   "source": [
    "df"
   ]
  },
  {
   "cell_type": "code",
   "execution_count": 6,
   "id": "f0c65f9b",
   "metadata": {},
   "outputs": [],
   "source": [
    "df.to_csv('dummy_data.csv')"
   ]
  },
  {
   "cell_type": "code",
   "execution_count": 8,
   "id": "ea424f00",
   "metadata": {},
   "outputs": [],
   "source": [
    "# preprocessing of data\n",
    "import pandas as pd\n",
    "import numpy as np\n",
    "from sklearn.preprocessing import StandardScaler\n",
    "from sklearn.model_selection import train_test_split\n",
    "t_data=pd.read_csv('dummy_data.csv')\n",
    "t_data=t_data.drop(['timestamp'],axis=1)\n",
    "X=t_data.drop(['target'],axis=1)\n",
    "Y=t_data['target']\n",
    "X_train, X_test, Y_train, Y_test = train_test_split( X , Y , test_size = 0.2, random_state = 0)\n",
    "sc = StandardScaler()\n",
    "X_train = sc.fit_transform(X_train)\n",
    "X_test = sc.transform(X_test)"
   ]
  },
  {
   "cell_type": "code",
   "execution_count": 16,
   "id": "138e369f",
   "metadata": {},
   "outputs": [],
   "source": [
    "#train model using one class svm\n",
    "from sklearn.svm import OneClassSVM\n",
    "one_class_svm = OneClassSVM(nu=0.02, kernel = 'rbf', gamma = 'auto').fit(X_train)\n"
   ]
  },
  {
   "cell_type": "code",
   "execution_count": 17,
   "id": "3b8380d9",
   "metadata": {},
   "outputs": [],
   "source": [
    "# predict anomalies\n",
    "prediction = one_class_svm.predict(X_test)\n",
    "# Change the anomalies' values to make it consistent with the true values\n",
    "prediction = [0 if i==-1 else 1 for i in prediction]\n"
   ]
  },
  {
   "cell_type": "code",
   "execution_count": 18,
   "id": "702bb640",
   "metadata": {},
   "outputs": [
    {
     "name": "stdout",
     "output_type": "stream",
     "text": [
      "              precision    recall  f1-score   support\n",
      "\n",
      "           0       0.02      0.02      0.02       803\n",
      "           1       0.98      0.98      0.98     39197\n",
      "\n",
      "    accuracy                           0.96     40000\n",
      "   macro avg       0.50      0.50      0.50     40000\n",
      "weighted avg       0.96      0.96      0.96     40000\n",
      "\n"
     ]
    }
   ],
   "source": [
    "# Check the model performance on test dataset\n",
    "from sklearn.metrics import classification_report\n",
    "print(classification_report(Y_test, prediction))"
   ]
  },
  {
   "cell_type": "code",
   "execution_count": 19,
   "id": "69b49f20",
   "metadata": {},
   "outputs": [
    {
     "data": {
      "text/plain": [
       "1    39197\n",
       "0      803\n",
       "Name: target, dtype: int64"
      ]
     },
     "execution_count": 19,
     "metadata": {},
     "output_type": "execute_result"
    }
   ],
   "source": [
    "Y_test.value_counts()"
   ]
  },
  {
   "cell_type": "code",
   "execution_count": 21,
   "id": "473f70dd",
   "metadata": {},
   "outputs": [
    {
     "data": {
      "text/plain": [
       "0.4970837667037509"
      ]
     },
     "execution_count": 21,
     "metadata": {},
     "output_type": "execute_result"
    }
   ],
   "source": [
    "from sklearn.metrics import roc_auc_score\n",
    "roc_auc_score(Y_test, one_class_svm.predict(X_test))"
   ]
  },
  {
   "cell_type": "code",
   "execution_count": 24,
   "id": "5551661d",
   "metadata": {},
   "outputs": [
    {
     "name": "stdout",
     "output_type": "stream",
     "text": [
      "1.0    39220\n",
      "0.0      780\n",
      "Name: anomaly1, dtype: int64\n"
     ]
    },
    {
     "name": "stderr",
     "output_type": "stream",
     "text": [
      "/var/folders/d2/713v0k3j29z6148dpv1ywcf80000gn/T/ipykernel_13048/2342401698.py:7: PerformanceWarning: DataFrame is highly fragmented.  This is usually the result of calling `frame.insert` many times, which has poor performance.  Consider joining all columns at once using pd.concat(axis=1) instead.  To get a de-fragmented frame, use `newframe = frame.copy()`\n",
      "  df['anomaly1'] = pd.Series(model.predict(X_test))\n"
     ]
    }
   ],
   "source": [
    "# isolation forest algorithm\n",
    "from sklearn.ensemble import IsolationForest\n",
    "outliers_fraction=0.02\n",
    "model =  IsolationForest(contamination = outliers_fraction)\n",
    "model.fit(X_train)\n",
    "# add the data to the main  \n",
    "df['anomaly1'] = pd.Series(model.predict(X_test))\n",
    "df['anomaly1'] = df['anomaly1'].map( {1: 1, -1: 0} )\n",
    "print(df['anomaly1'].value_counts())"
   ]
  },
  {
   "cell_type": "code",
   "execution_count": 26,
   "id": "bff028c0",
   "metadata": {},
   "outputs": [
    {
     "name": "stdout",
     "output_type": "stream",
     "text": [
      "X_train shape (160000, 1001)\n",
      "pca_train shape (160000, 50)\n",
      "inverse_transform_train shape (160000, 1001)\n"
     ]
    }
   ],
   "source": [
    "# anomaly detection using PCA\n",
    "from sklearn.decomposition import PCA\n",
    "n_components = 50 # the components number can change to every number that you want.\n",
    "\n",
    "# Create PCA with components number\n",
    "pca = PCA(n_components = n_components)\n",
    "# fit transform with PCA on dataset\n",
    "pca_train = pca.fit_transform(X_train)\n",
    "# inverse transform back to regular dataset \n",
    "inverse_transform_train = pca.inverse_transform(pca_train)\n",
    "\n",
    "print(\"X_train shape\",X_train.shape)\n",
    "print(\"pca_train shape\",pca_train.shape)\n",
    "print(\"inverse_transform_train shape\",inverse_transform_train.shape)\n"
   ]
  },
  {
   "cell_type": "code",
   "execution_count": 28,
   "id": "e2c1b9c1",
   "metadata": {},
   "outputs": [
    {
     "name": "stdout",
     "output_type": "stream",
     "text": [
      "X_test shape (40000, 1001)\n",
      "pca_test shape (40000, 50)\n",
      "inverse_transform_test shape (40000, 1001)\n"
     ]
    }
   ],
   "source": [
    "from sklearn.decomposition import PCA\n",
    "n_components = 50 # the components number can change to every number that you want.\n",
    "\n",
    "# Create PCA with components number\n",
    "pca = PCA(n_components = n_components)\n",
    "# fit transform with PCA on dataset\n",
    "pca_test = pca.fit_transform(X_test)\n",
    "# inverse transform back to regular dataset \n",
    "inverse_transform_test = pca.inverse_transform(pca_test)\n",
    "\n",
    "print(\"X_test shape\",X_test.shape)\n",
    "print(\"pca_test shape\",pca_test.shape)\n",
    "print(\"inverse_transform_test shape\",inverse_transform_test.shape)"
   ]
  },
  {
   "cell_type": "code",
   "execution_count": 29,
   "id": "0d54fa74",
   "metadata": {},
   "outputs": [],
   "source": [
    "from sklearn.ensemble import RandomForestClassifier\n",
    "\n",
    "classifier = RandomForestClassifier(max_depth=7, random_state=0)\n",
    "classifier.fit(pca_train, Y_train)\n",
    "\n",
    "# Predicting the Test set results\n",
    "y_pred = classifier.predict(pca_test)"
   ]
  },
  {
   "cell_type": "code",
   "execution_count": 31,
   "id": "9d35af40",
   "metadata": {},
   "outputs": [
    {
     "name": "stdout",
     "output_type": "stream",
     "text": [
      "              precision    recall  f1-score   support\n",
      "\n",
      "           0       0.00      0.00      0.00       803\n",
      "           1       0.98      1.00      0.99     39197\n",
      "\n",
      "    accuracy                           0.98     40000\n",
      "   macro avg       0.49      0.50      0.49     40000\n",
      "weighted avg       0.96      0.98      0.97     40000\n",
      "\n"
     ]
    },
    {
     "name": "stderr",
     "output_type": "stream",
     "text": [
      "/Users/time_machine/opt/anaconda3/lib/python3.9/site-packages/sklearn/metrics/_classification.py:1248: UndefinedMetricWarning: Precision and F-score are ill-defined and being set to 0.0 in labels with no predicted samples. Use `zero_division` parameter to control this behavior.\n",
      "  _warn_prf(average, modifier, msg_start, len(result))\n",
      "/Users/time_machine/opt/anaconda3/lib/python3.9/site-packages/sklearn/metrics/_classification.py:1248: UndefinedMetricWarning: Precision and F-score are ill-defined and being set to 0.0 in labels with no predicted samples. Use `zero_division` parameter to control this behavior.\n",
      "  _warn_prf(average, modifier, msg_start, len(result))\n",
      "/Users/time_machine/opt/anaconda3/lib/python3.9/site-packages/sklearn/metrics/_classification.py:1248: UndefinedMetricWarning: Precision and F-score are ill-defined and being set to 0.0 in labels with no predicted samples. Use `zero_division` parameter to control this behavior.\n",
      "  _warn_prf(average, modifier, msg_start, len(result))\n"
     ]
    }
   ],
   "source": [
    "# Check the model performance on test dataset\n",
    "from sklearn.metrics import classification_report\n",
    "print(classification_report(Y_test, y_pred))"
   ]
  },
  {
   "cell_type": "code",
   "execution_count": 39,
   "id": "6d84c958",
   "metadata": {},
   "outputs": [
    {
     "data": {
      "text/plain": [
       "0.9898607270477416"
      ]
     },
     "execution_count": 39,
     "metadata": {},
     "output_type": "execute_result"
    }
   ],
   "source": [
    "F1_score = metrics.f1_score(Y_test, y_pred)\n",
    "F1_score"
   ]
  },
  {
   "cell_type": "code",
   "execution_count": null,
   "id": "2522f7af",
   "metadata": {},
   "outputs": [],
   "source": []
  }
 ],
 "metadata": {
  "kernelspec": {
   "display_name": "Python 3 (ipykernel)",
   "language": "python",
   "name": "python3"
  },
  "language_info": {
   "codemirror_mode": {
    "name": "ipython",
    "version": 3
   },
   "file_extension": ".py",
   "mimetype": "text/x-python",
   "name": "python",
   "nbconvert_exporter": "python",
   "pygments_lexer": "ipython3",
   "version": "3.9.7"
  }
 },
 "nbformat": 4,
 "nbformat_minor": 5
}
